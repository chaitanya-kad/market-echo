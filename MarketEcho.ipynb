{
 "cells": [
  {
   "cell_type": "code",
   "execution_count": 11,
   "id": "62c224af-50a0-477c-ad92-90863905ad2c",
   "metadata": {},
   "outputs": [
    {
     "name": "stdout",
     "output_type": "stream",
     "text": [
      "Requirement already satisfied: gTTS in c:\\users\\dell\\anaconda3\\lib\\site-packages (2.5.4)\n",
      "Requirement already satisfied: vaderSentiment in c:\\users\\dell\\anaconda3\\lib\\site-packages (3.3.2)\n",
      "Requirement already satisfied: schedule in c:\\users\\dell\\anaconda3\\lib\\site-packages (1.2.2)\n",
      "Requirement already satisfied: requests in c:\\users\\dell\\anaconda3\\lib\\site-packages (2.32.3)\n",
      "Requirement already satisfied: beautifulsoup4 in c:\\users\\dell\\anaconda3\\lib\\site-packages (4.12.3)\n",
      "Collecting pygame\n",
      "  Downloading pygame-2.6.1-cp312-cp312-win_amd64.whl.metadata (13 kB)\n",
      "Requirement already satisfied: click<8.2,>=7.1 in c:\\users\\dell\\anaconda3\\lib\\site-packages (from gTTS) (8.1.7)\n",
      "Requirement already satisfied: charset-normalizer<4,>=2 in c:\\users\\dell\\anaconda3\\lib\\site-packages (from requests) (3.3.2)\n",
      "Requirement already satisfied: idna<4,>=2.5 in c:\\users\\dell\\anaconda3\\lib\\site-packages (from requests) (3.7)\n",
      "Requirement already satisfied: urllib3<3,>=1.21.1 in c:\\users\\dell\\anaconda3\\lib\\site-packages (from requests) (2.2.3)\n",
      "Requirement already satisfied: certifi>=2017.4.17 in c:\\users\\dell\\anaconda3\\lib\\site-packages (from requests) (2025.1.31)\n",
      "Requirement already satisfied: soupsieve>1.2 in c:\\users\\dell\\anaconda3\\lib\\site-packages (from beautifulsoup4) (2.5)\n",
      "Requirement already satisfied: colorama in c:\\users\\dell\\anaconda3\\lib\\site-packages (from click<8.2,>=7.1->gTTS) (0.4.6)\n",
      "Downloading pygame-2.6.1-cp312-cp312-win_amd64.whl (10.6 MB)\n",
      "   ---------------------------------------- 0.0/10.6 MB ? eta -:--:--\n",
      "   --- ------------------------------------ 1.0/10.6 MB 6.3 MB/s eta 0:00:02\n",
      "   -------- ------------------------------- 2.4/10.6 MB 6.7 MB/s eta 0:00:02\n",
      "   ------------- -------------------------- 3.7/10.6 MB 6.4 MB/s eta 0:00:02\n",
      "   ------------------- -------------------- 5.2/10.6 MB 6.8 MB/s eta 0:00:01\n",
      "   ------------------------- -------------- 6.8/10.6 MB 7.1 MB/s eta 0:00:01\n",
      "   ----------------------------- ---------- 7.9/10.6 MB 7.1 MB/s eta 0:00:01\n",
      "   ----------------------------- ---------- 7.9/10.6 MB 7.1 MB/s eta 0:00:01\n",
      "   ----------------------------- ---------- 7.9/10.6 MB 7.1 MB/s eta 0:00:01\n",
      "   ----------------------------- ---------- 7.9/10.6 MB 7.1 MB/s eta 0:00:01\n",
      "   ------------------------------ --------- 8.1/10.6 MB 4.3 MB/s eta 0:00:01\n",
      "   ------------------------------ --------- 8.1/10.6 MB 4.3 MB/s eta 0:00:01\n",
      "   ------------------------------- -------- 8.4/10.6 MB 3.6 MB/s eta 0:00:01\n",
      "   ------------------------------- -------- 8.4/10.6 MB 3.6 MB/s eta 0:00:01\n",
      "   -------------------------------- ------- 8.7/10.6 MB 3.1 MB/s eta 0:00:01\n",
      "   ------------------------------------ --- 9.7/10.6 MB 3.1 MB/s eta 0:00:01\n",
      "   ---------------------------------------- 10.6/10.6 MB 3.3 MB/s eta 0:00:00\n",
      "Installing collected packages: pygame\n",
      "Successfully installed pygame-2.6.1\n"
     ]
    }
   ],
   "source": [
    "!pip install gTTS vaderSentiment schedule requests beautifulsoup4 pygame\n"
   ]
  },
  {
   "cell_type": "code",
   "execution_count": 12,
   "id": "d8889a2a-e0ff-490d-96e6-367a0ddc089f",
   "metadata": {},
   "outputs": [],
   "source": [
    "import requests\n",
    "from bs4 import BeautifulSoup\n",
    "\n",
    "def get_news_finviz(ticker=\"TSLA\"):\n",
    "    url = f\"https://finviz.com/quote.ashx?t={ticker}\"\n",
    "    headers = {'User-Agent': 'Mozilla/5.0'}\n",
    "    r = requests.get(url, headers=headers)\n",
    "    soup = BeautifulSoup(r.text, \"html.parser\")\n",
    "    news_table = soup.find(\"table\", class_=\"fullview-news-outer\")\n",
    "\n",
    "    headlines = []\n",
    "    for row in news_table.findAll(\"tr\")[:5]:\n",
    "        headline = row.a.get_text()\n",
    "        headlines.append(headline)\n",
    "    return headlines\n"
   ]
  },
  {
   "cell_type": "code",
   "execution_count": 13,
   "id": "33f6c4df-8cc3-4f6e-a1b1-94f595d7910b",
   "metadata": {},
   "outputs": [],
   "source": [
    "from vaderSentiment.vaderSentiment import SentimentIntensityAnalyzer\n",
    "\n",
    "analyzer = SentimentIntensityAnalyzer()\n",
    "\n",
    "def get_sentiment(text):\n",
    "    score = analyzer.polarity_scores(text)[\"compound\"]\n",
    "    if score >= 0.05:\n",
    "        return \"positive\"\n",
    "    elif score <= -0.05:\n",
    "        return \"negative\"\n",
    "    else:\n",
    "        return \"neutral\"\n"
   ]
  },
  {
   "cell_type": "code",
   "execution_count": 14,
   "id": "45fa4dbc-610b-4a85-81d9-8de078eb18e4",
   "metadata": {},
   "outputs": [
    {
     "name": "stdout",
     "output_type": "stream",
     "text": [
      "pygame 2.6.1 (SDL 2.28.4, Python 3.12.7)\n",
      "Hello from the pygame community. https://www.pygame.org/contribute.html\n"
     ]
    }
   ],
   "source": [
    "from gtts import gTTS\n",
    "import pygame\n",
    "import os\n",
    "\n",
    "def speak(text, filename=\"temp.mp3\"):\n",
    "    tts = gTTS(text)\n",
    "    tts.save(filename)\n",
    "\n",
    "    pygame.mixer.init()\n",
    "    pygame.mixer.music.load(filename)\n",
    "    pygame.mixer.music.play()\n",
    "    \n",
    "    while pygame.mixer.music.get_busy():\n",
    "        continue\n",
    "\n",
    "    pygame.mixer.quit()\n",
    "    os.remove(filename)\n"
   ]
  },
  {
   "cell_type": "code",
   "execution_count": 15,
   "id": "4dde96d5-6699-4838-bdb9-2b6dadcc5e7a",
   "metadata": {},
   "outputs": [],
   "source": [
    "def run_once(ticker=\"TSLA\"):\n",
    "    headlines = get_news_finviz(ticker)\n",
    "    for h in headlines:\n",
    "        sentiment = get_sentiment(h)\n",
    "        text = f\"{sentiment} news for {ticker}: {h}\"\n",
    "        print(text)\n",
    "        speak(text)\n"
   ]
  },
  {
   "cell_type": "code",
   "execution_count": null,
   "id": "6ebe9b82-580b-4aff-8531-290eb2b881df",
   "metadata": {},
   "outputs": [
    {
     "name": "stdout",
     "output_type": "stream",
     "text": [
      "positive news for TSLA: Congressman Says 'Nobody Asked For The IRS To Be Americans' Tax Preparer,' Applauds Efforts To Shut Down The IRS Direct File Program\n",
      "positive news for TSLA: Senate Megabill Stuns the Clean Energy Industry With New Tax on Wind and Solar\n",
      "negative news for TSLA: Elon Musk renews his attacks on Trump's big bill, calling it 'massive strategic error'\n",
      "neutral news for TSLA: Tech stocks are powering this record-setting rally on Wall Street  but how long can it last?\n",
      "neutral news for TSLA: Tesla, Inc. (TSLA): \"It's Not A Car Company,\" Asserts Jim Cramer\n"
     ]
    }
   ],
   "source": [
    "run_once(\"TSLA\")\n"
   ]
  }
 ],
 "metadata": {
  "kernelspec": {
   "display_name": "Python [conda env:base] *",
   "language": "python",
   "name": "conda-base-py"
  },
  "language_info": {
   "codemirror_mode": {
    "name": "ipython",
    "version": 3
   },
   "file_extension": ".py",
   "mimetype": "text/x-python",
   "name": "python",
   "nbconvert_exporter": "python",
   "pygments_lexer": "ipython3",
   "version": "3.12.7"
  }
 },
 "nbformat": 4,
 "nbformat_minor": 5
}
